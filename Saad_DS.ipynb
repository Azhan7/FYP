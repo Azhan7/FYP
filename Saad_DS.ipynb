{
  "nbformat": 4,
  "nbformat_minor": 0,
  "metadata": {
    "colab": {
      "name": "Untitled2.ipynb",
      "provenance": []
    },
    "kernelspec": {
      "name": "python3",
      "display_name": "Python 3"
    },
    "language_info": {
      "name": "python"
    }
  },
  "cells": [
    {
      "cell_type": "code",
      "metadata": {
        "colab": {
          "base_uri": "https://localhost:8080/"
        },
        "id": "Ha9e4i6QOWC5",
        "outputId": "29927bd6-cdd8-43ba-bce2-81b73618b58c"
      },
      "source": [
        "from google.colab import drive\n",
        "\n",
        "drive.mount('/content/gdrive/')\n"
      ],
      "execution_count": 1,
      "outputs": [
        {
          "output_type": "stream",
          "text": [
            "Mounted at /content/gdrive/\n"
          ],
          "name": "stdout"
        }
      ]
    },
    {
      "cell_type": "code",
      "metadata": {
        "colab": {
          "base_uri": "https://localhost:8080/"
        },
        "id": "eCNXJLEPP4vR",
        "outputId": "7873b707-15ec-44a4-bdab-e314eb588ab8"
      },
      "source": [
        "train_label=np.load('gdrive/My Drive/shared malware data/train_label_224.txt.npy')\n",
        "print(train_label.shape)\n"
      ],
      "execution_count": 20,
      "outputs": [
        {
          "output_type": "stream",
          "text": [
            "(10868,)\n"
          ],
          "name": "stdout"
        }
      ]
    },
    {
      "cell_type": "code",
      "metadata": {
        "colab": {
          "base_uri": "https://localhost:8080/"
        },
        "id": "gqZ1_qShRNuu",
        "outputId": "2965f9b4-927e-4f3e-cd58-d7b85b5ee246"
      },
      "source": [
        "train_images_kmeans=np.load('gdrive/My Drive/shared malware data/train_images_kmeans.npy')\n",
        "print(train_images_kmeans.shape)\n"
      ],
      "execution_count": 15,
      "outputs": [
        {
          "output_type": "stream",
          "text": [
            "(10868, 224, 224)\n"
          ],
          "name": "stdout"
        }
      ]
    },
    {
      "cell_type": "code",
      "metadata": {
        "id": "3QUw02_GP-9b"
      },
      "source": [
        "import numpy as np"
      ],
      "execution_count": 14,
      "outputs": []
    },
    {
      "cell_type": "code",
      "metadata": {
        "id": "WnkLG2UIRnZ0"
      },
      "source": [
        "train_images_kmeans = np.resize(train_images_kmeans,(10868,-1))"
      ],
      "execution_count": 16,
      "outputs": []
    },
    {
      "cell_type": "code",
      "metadata": {
        "colab": {
          "base_uri": "https://localhost:8080/"
        },
        "id": "jazoa5swRxdU",
        "outputId": "a76e3321-5350-4957-f0aa-26aa95e8bf31"
      },
      "source": [
        "print(train_images_kmeans.shape)\n"
      ],
      "execution_count": 17,
      "outputs": [
        {
          "output_type": "stream",
          "text": [
            "(10868, 50175)\n"
          ],
          "name": "stdout"
        }
      ]
    },
    {
      "cell_type": "code",
      "metadata": {
        "colab": {
          "base_uri": "https://localhost:8080/"
        },
        "id": "04riWc-KR3Xl",
        "outputId": "ef33d25f-313c-413a-8345-256948f4bfba"
      },
      "source": [
        "np.unique(train_label)"
      ],
      "execution_count": 22,
      "outputs": [
        {
          "output_type": "execute_result",
          "data": {
            "text/plain": [
              "array([1, 2, 3, 4, 5, 6, 7, 8, 9])"
            ]
          },
          "metadata": {
            "tags": []
          },
          "execution_count": 22
        }
      ]
    },
    {
      "cell_type": "code",
      "metadata": {
        "id": "aM78JWoJRz1i"
      },
      "source": [
        "data = []\n",
        "data_labels = []\n",
        "for i in range(1,10):\n",
        "  data.append(train_images_kmeans[train_label==i])\n",
        "  data_labels.append(train_label[train_label==i])"
      ],
      "execution_count": 24,
      "outputs": []
    },
    {
      "cell_type": "code",
      "metadata": {
        "colab": {
          "base_uri": "https://localhost:8080/"
        },
        "id": "zPcd5Es4SSTh",
        "outputId": "3fff4180-fb3c-48c4-ebcb-4d965826c0ba"
      },
      "source": [
        "for i in range(9): \n",
        "  print(np.shape(data[i][:40]))\n",
        "  print(np.shape(data_labels[i]))\n",
        "  "
      ],
      "execution_count": 26,
      "outputs": [
        {
          "output_type": "stream",
          "text": [
            "(40, 50175)\n",
            "(1541,)\n",
            "(40, 50175)\n",
            "(2478,)\n",
            "(40, 50175)\n",
            "(2942,)\n",
            "(40, 50175)\n",
            "(475,)\n",
            "(40, 50175)\n",
            "(42,)\n",
            "(40, 50175)\n",
            "(751,)\n",
            "(40, 50175)\n",
            "(398,)\n",
            "(40, 50175)\n",
            "(1228,)\n",
            "(40, 50175)\n",
            "(1013,)\n"
          ],
          "name": "stdout"
        }
      ]
    },
    {
      "cell_type": "code",
      "metadata": {
        "id": "cgzDgoZLQBiY"
      },
      "source": [
        "\n",
        "train_images=np.load('gdrive/My Drive/shared malware data/train_images_kmeans.npy')\n",
        "test_images=np.load('gdrive/My Drive/shared malware data/test_images_kmeans.npy')"
      ],
      "execution_count": null,
      "outputs": []
    },
    {
      "cell_type": "code",
      "metadata": {
        "colab": {
          "base_uri": "https://localhost:8080/"
        },
        "id": "Y2i9EotWRy68",
        "outputId": "81122767-a8b0-4c08-e722-f0a82eba671c"
      },
      "source": [
        "print(data[0].shape)"
      ],
      "execution_count": 28,
      "outputs": [
        {
          "output_type": "stream",
          "text": [
            "(1541, 50175)\n"
          ],
          "name": "stdout"
        }
      ]
    },
    {
      "cell_type": "code",
      "metadata": {
        "id": "T74XfvskTbF-"
      },
      "source": [
        ""
      ],
      "execution_count": null,
      "outputs": []
    }
  ]
}